{
  "nbformat": 4,
  "nbformat_minor": 0,
  "metadata": {
    "colab": {
      "provenance": [],
      "authorship_tag": "ABX9TyMkscf3dJZSf1Fnz/AJYEYn",
      "include_colab_link": true
    },
    "kernelspec": {
      "name": "python3",
      "display_name": "Python 3"
    },
    "language_info": {
      "name": "python"
    }
  },
  "cells": [
    {
      "cell_type": "markdown",
      "metadata": {
        "id": "view-in-github",
        "colab_type": "text"
      },
      "source": [
        "<a href=\"https://colab.research.google.com/github/presleysequeira/AI_Playground/blob/main/GPT_Document_Bot.ipynb\" target=\"_parent\"><img src=\"https://colab.research.google.com/assets/colab-badge.svg\" alt=\"Open In Colab\"/></a>"
      ]
    },
    {
      "cell_type": "code",
      "execution_count": null,
      "metadata": {
        "id": "gueBPQkTK2pi"
      },
      "outputs": [],
      "source": [
        "!pip install llama-index #installing llama index and pydf(to be able to open and read PDF files on python)\n",
        "!pip install pypdf\n",
        "import pypdf\n",
        "from llama_index import GPTVectorStoreIndex, Document, SimpleDirectoryReader"
      ]
    },
    {
      "cell_type": "code",
      "source": [
        "!pip install openai"
      ],
      "metadata": {
        "id": "zWcXvoObLixu"
      },
      "execution_count": null,
      "outputs": []
    },
    {
      "cell_type": "code",
      "source": [
        "import os\n",
        "import openai\n",
        "os.environ['OPENAI_API_KEY'] = 'sk-########'  #using an API key from chatgpt"
      ],
      "metadata": {
        "id": "9TZQdhQ7LtvB"
      },
      "execution_count": 11,
      "outputs": []
    },
    {
      "cell_type": "code",
      "source": [
        "from google.colab import drive\n",
        "drive.mount(\"/content/drive\") #mount the drive directory which contains documents which are to be indexed\n"
      ],
      "metadata": {
        "id": "ODDTNo3bNXKz"
      },
      "execution_count": null,
      "outputs": []
    },
    {
      "cell_type": "code",
      "source": [
        "paper = SimpleDirectoryReader('/content/drive/MyDrive/data/').load_data() #store the documents in a variable\n",
        "print(paper)"
      ],
      "metadata": {
        "id": "2lNQQUtNaqxk"
      },
      "execution_count": null,
      "outputs": []
    },
    {
      "cell_type": "code",
      "source": [
        "index = GPTVectorStoreIndex.from_documents(paper) #index the documents into a vector store"
      ],
      "metadata": {
        "id": "alU_eD8EOnOS"
      },
      "execution_count": 18,
      "outputs": []
    },
    {
      "cell_type": "code",
      "source": [
        "query_engine = index.as_query_engine() #query the documents using a natural language question\n",
        "response = query_engine.query(\"What is a real application cluster?\")\n",
        "print(response)"
      ],
      "metadata": {
        "id": "rBGRZ9d5OwzR"
      },
      "execution_count": null,
      "outputs": []
    }
  ]
}